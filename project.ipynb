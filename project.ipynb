{
  "cells": [
    {
      "cell_type": "markdown",
      "metadata": {
        "id": "Md413FzAvFD8"
      },
      "source": [
        "# DX 704 Week 8 Project\n",
        "\n",
        "This homework will modify a simulator controlling a small vehicle to implement tabular q-learning.\n",
        "You will first test your code with random and greedy-epsilon policies, then tweak your own training method for a more optimal policy."
      ]
    },
    {
      "cell_type": "markdown",
      "metadata": {
        "id": "EvEjsVg10YFf"
      },
      "source": [
        "The full project description and a template notebook are available on GitHub: [Project 8 Materials](https://github.com/bu-cds-dx704/dx704-project-08).\n"
      ]
    },
    {
      "cell_type": "markdown",
      "metadata": {
        "id": "RT7nKctadu6R"
      },
      "source": [
        "## Example Code\n",
        "\n",
        "You may find it helpful to refer to these GitHub repositories of Jupyter notebooks for example code.\n",
        "\n",
        "* https://github.com/bu-cds-omds/dx601-examples\n",
        "* https://github.com/bu-cds-omds/dx602-examples\n",
        "* https://github.com/bu-cds-omds/dx603-examples\n",
        "* https://github.com/bu-cds-omds/dx704-examples\n",
        "\n",
        "Any calculations demonstrated in code examples or videos may be found in these notebooks, and you are allowed to copy this example code in your homework answers."
      ]
    },
    {
      "cell_type": "markdown",
      "metadata": {
        "id": "MUD8aVv44IVP"
      },
      "source": [
        "## Rover Simulator\n",
        "\n",
        "The following Python class implements a simulation of a simple vehicle with integer x,y coordinates facing in one of 8 possible directions.\n"
      ]
    },
    {
      "cell_type": "code",
      "execution_count": 2,
      "metadata": {
        "id": "Sv0BRzHz187D"
      },
      "outputs": [],
      "source": [
        "# DO NOT CHANGE\n",
        "\n",
        "import random\n",
        "\n",
        "class RoverSimulator(object):\n",
        "    DIRECTIONS = ((0, 1), (1, 1), (1, 0), (1, -1), (0, -1), (-1, -1), (-1, 0), (-1, 1))\n",
        "\n",
        "    def __init__(self, resolution):\n",
        "        self.resolution = resolution\n",
        "        self.terminal_state = self.construct_state(resolution // 2, resolution // 2, 0)\n",
        "\n",
        "        self.initial_states = []\n",
        "        for initial_x in (0, resolution // 2, resolution - 1):\n",
        "            for initial_y in (0, resolution // 2, resolution - 1):\n",
        "                for initial_direction in range(8):\n",
        "                    initial_state = self.construct_state(initial_x, initial_y, initial_direction)\n",
        "                    if initial_state != self.terminal_state:\n",
        "                        self.initial_states.append(initial_state)\n",
        "\n",
        "    def construct_state(self, x, y, direction):\n",
        "        assert 0 <= x < self.resolution\n",
        "        assert 0 <= y < self.resolution\n",
        "        assert 0 <= direction < 8\n",
        "\n",
        "        state = (y * self.resolution + x) * 8 + direction\n",
        "        assert self.decode_state(state) == (x, y, direction)\n",
        "        return state\n",
        "\n",
        "    def decode_state(self, state):\n",
        "        direction = state % 8\n",
        "        x = (state // 8) % self.resolution\n",
        "        y = state // (8 * self.resolution)\n",
        "\n",
        "        return (x, y, direction)\n",
        "\n",
        "    def get_actions(self, state):\n",
        "        return [-1, 0, 1]\n",
        "\n",
        "    def get_next_reward_state(self, curr_state, curr_action):\n",
        "        if curr_state == self.terminal_state:\n",
        "            # no rewards or changes from terminal state\n",
        "            return (0, curr_state)\n",
        "\n",
        "        (curr_x, curr_y, curr_direction) = self.decode_state(curr_state)\n",
        "        (curr_dx, curr_dy) = self.DIRECTIONS[curr_direction]\n",
        "\n",
        "        assert self.construct_state(curr_x, curr_y, curr_direction) == curr_state\n",
        "\n",
        "        assert curr_action in (-1, 0, 1)\n",
        "\n",
        "        next_x = min(max(0, curr_x + curr_dx), self.resolution - 1)\n",
        "        next_y = min(max(0, curr_y + curr_dy), self.resolution - 1)\n",
        "        next_direction = (curr_direction + curr_action) % 8\n",
        "\n",
        "        next_state = self.construct_state(next_x, next_y, next_direction)\n",
        "        next_reward = 1 if next_state == self.terminal_state else 0\n",
        "\n",
        "        return (next_reward, next_state)\n",
        "\n",
        "    def rollout_policy(self, policy_func, max_steps=1000):\n",
        "        curr_state = self.sample_initial_state()\n",
        "        for i in range(max_steps):\n",
        "            curr_action = policy_func(curr_state, self.get_actions(curr_state))\n",
        "            (next_reward, next_state) = self.get_next_reward_state(curr_state, curr_action)\n",
        "            yield (curr_state, curr_action, next_reward, next_state)\n",
        "            curr_state = next_state\n",
        "\n",
        "    def sample_initial_state(self):\n",
        "        return random.choice(self.initial_states)"
      ]
    },
    {
      "cell_type": "code",
      "execution_count": 3,
      "metadata": {
        "colab": {
          "base_uri": "https://localhost:8080/"
        },
        "id": "5LMQrlfX4Ybs",
        "outputId": "82744cc1-1f98-48c4-fc6b-49631b89afdd"
      },
      "outputs": [
        {
          "name": "stdout",
          "output_type": "stream",
          "text": [
            "INITIAL SAMPLE 2044\n"
          ]
        }
      ],
      "source": [
        "simulator = RoverSimulator(16)\n",
        "initial_sample = simulator.sample_initial_state()\n",
        "print(\"INITIAL SAMPLE\", initial_sample)"
      ]
    },
    {
      "cell_type": "markdown",
      "metadata": {
        "id": "C8oSLkMqvMFF"
      },
      "source": [
        "## Part 1: Implement a Random Policy\n",
        "\n",
        "Random policies are often used to test simulators and start initial exploration.\n",
        "Implement a random policy for these simulators."
      ]
    },
    {
      "cell_type": "code",
      "execution_count": 4,
      "metadata": {
        "id": "DewHlicn4PtW"
      },
      "outputs": [],
      "source": [
        "# YOUR CHANGES HERE\n",
        "\n",
        "def random_policy(state, actions):\n",
        "    return 0"
      ]
    },
    {
      "cell_type": "markdown",
      "metadata": {
        "id": "iJYOB9zl6szl"
      },
      "source": [
        "Use the code below to test your random policy.\n",
        "Then modify it to save the results in \"log-random.tsv\" with the columns curr_state, curr_action, next_reward and next_state."
      ]
    },
    {
      "cell_type": "code",
      "execution_count": 5,
      "metadata": {
        "colab": {
          "base_uri": "https://localhost:8080/"
        },
        "id": "xgnNCJH453qE",
        "outputId": "83ddd35e-a87d-40ee-bd4c-f82d6dbbd4bc"
      },
      "outputs": [
        {
          "name": "stdout",
          "output_type": "stream",
          "text": [
            "CURR STATE 1089 ACTION 0 NEXT REWARD 0 NEXT STATE 1225\n",
            "CURR STATE 1225 ACTION 0 NEXT REWARD 0 NEXT STATE 1361\n",
            "CURR STATE 1361 ACTION 0 NEXT REWARD 0 NEXT STATE 1497\n",
            "CURR STATE 1497 ACTION 0 NEXT REWARD 0 NEXT STATE 1633\n",
            "CURR STATE 1633 ACTION 0 NEXT REWARD 0 NEXT STATE 1769\n",
            "CURR STATE 1769 ACTION 0 NEXT REWARD 0 NEXT STATE 1905\n",
            "CURR STATE 1905 ACTION 0 NEXT REWARD 0 NEXT STATE 2041\n",
            "CURR STATE 2041 ACTION 0 NEXT REWARD 0 NEXT STATE 2041\n",
            "CURR STATE 2041 ACTION 0 NEXT REWARD 0 NEXT STATE 2041\n",
            "CURR STATE 2041 ACTION 0 NEXT REWARD 0 NEXT STATE 2041\n",
            "CURR STATE 2041 ACTION 0 NEXT REWARD 0 NEXT STATE 2041\n",
            "CURR STATE 2041 ACTION 0 NEXT REWARD 0 NEXT STATE 2041\n",
            "CURR STATE 2041 ACTION 0 NEXT REWARD 0 NEXT STATE 2041\n",
            "CURR STATE 2041 ACTION 0 NEXT REWARD 0 NEXT STATE 2041\n",
            "CURR STATE 2041 ACTION 0 NEXT REWARD 0 NEXT STATE 2041\n",
            "CURR STATE 2041 ACTION 0 NEXT REWARD 0 NEXT STATE 2041\n",
            "CURR STATE 2041 ACTION 0 NEXT REWARD 0 NEXT STATE 2041\n",
            "CURR STATE 2041 ACTION 0 NEXT REWARD 0 NEXT STATE 2041\n",
            "CURR STATE 2041 ACTION 0 NEXT REWARD 0 NEXT STATE 2041\n",
            "CURR STATE 2041 ACTION 0 NEXT REWARD 0 NEXT STATE 2041\n",
            "CURR STATE 2041 ACTION 0 NEXT REWARD 0 NEXT STATE 2041\n",
            "CURR STATE 2041 ACTION 0 NEXT REWARD 0 NEXT STATE 2041\n",
            "CURR STATE 2041 ACTION 0 NEXT REWARD 0 NEXT STATE 2041\n",
            "CURR STATE 2041 ACTION 0 NEXT REWARD 0 NEXT STATE 2041\n",
            "CURR STATE 2041 ACTION 0 NEXT REWARD 0 NEXT STATE 2041\n",
            "CURR STATE 2041 ACTION 0 NEXT REWARD 0 NEXT STATE 2041\n",
            "CURR STATE 2041 ACTION 0 NEXT REWARD 0 NEXT STATE 2041\n",
            "CURR STATE 2041 ACTION 0 NEXT REWARD 0 NEXT STATE 2041\n",
            "CURR STATE 2041 ACTION 0 NEXT REWARD 0 NEXT STATE 2041\n",
            "CURR STATE 2041 ACTION 0 NEXT REWARD 0 NEXT STATE 2041\n",
            "CURR STATE 2041 ACTION 0 NEXT REWARD 0 NEXT STATE 2041\n",
            "CURR STATE 2041 ACTION 0 NEXT REWARD 0 NEXT STATE 2041\n"
          ]
        }
      ],
      "source": [
        "# YOUR CHANGES HERE\n",
        "\n",
        "for (curr_state, curr_action, next_reward, next_state) in simulator.rollout_policy(random_policy, max_steps=32):\n",
        "    print(\"CURR STATE\", curr_state, \"ACTION\", curr_action, \"NEXT REWARD\", next_reward, \"NEXT STATE\", next_state)"
      ]
    },
    {
      "cell_type": "markdown",
      "metadata": {
        "id": "nRZOd3Bk7JIz"
      },
      "source": [
        "Submit \"log-random.tsv\" in Gradescope."
      ]
    },
    {
      "cell_type": "code",
      "execution_count": 6,
      "metadata": {},
      "outputs": [
        {
          "name": "stdout",
          "output_type": "stream",
          "text": [
            "   curr_state  curr_action  next_reward  next_state\n",
            "0         126           -1            0         117\n",
            "1         117           -1            0         108\n",
            "2         108            0            0         108\n",
            "3         108            0            0         108\n",
            "4         108            0            0         108\n"
          ]
        }
      ],
      "source": [
        "import random\n",
        "import pandas as pd\n",
        "\n",
        "\n",
        "def random_policy(state, actions):\n",
        "    return random.choice(actions)   \n",
        "\n",
        "\n",
        "records = []\n",
        "\n",
        "for (curr_state, curr_action, next_reward, next_state) in simulator.rollout_policy(random_policy, max_steps=32):\n",
        "    records.append({\n",
        "        \"curr_state\": curr_state,\n",
        "        \"curr_action\": curr_action,\n",
        "        \"next_reward\": next_reward,\n",
        "        \"next_state\": next_state\n",
        "    })\n",
        "\n",
        "\n",
        "df = pd.DataFrame(records)\n",
        "df.to_csv(\"log-random.tsv\", sep=\"\\t\", index=False)\n",
        "\n",
        "\n",
        "print(df.head())\n"
      ]
    },
    {
      "cell_type": "markdown",
      "metadata": {
        "id": "bAWky_dR7QK1"
      },
      "source": [
        "## Part 2: Implement Q-Learning with Random Policy\n",
        "\n",
        "The code below runs 32 random rollouts of 1024 steps using your random policy.\n",
        "Modify the rollout code to implement Q-Learning.\n",
        "Just implement one learning update for each sampled state-action in the simulation.\n",
        "Use $\\alpha=1$ and $\\gamma=0.9$ since the simulator is deterministic and there is a sink where the rewards stop.\n",
        "\n",
        "\n"
      ]
    },
    {
      "cell_type": "code",
      "execution_count": 7,
      "metadata": {
        "id": "231quBGA7pVd"
      },
      "outputs": [],
      "source": [
        "# YOUR CHANGES HERE\n",
        "\n",
        "for episode in range(32):\n",
        "    for (curr_state, curr_action, next_reward, next_state) in simulator.rollout_policy(random_policy, max_steps=1024):\n",
        "        #print(\"CURR STATE\", curr_state, \"ACTION\", curr_action, \"NEXT REWARD\", next_reward, \"NEXT STATE\", next_state)\n",
        "        pass"
      ]
    },
    {
      "cell_type": "markdown",
      "metadata": {
        "id": "tDBNOFLcPPRs"
      },
      "source": [
        "Save each step in the simulator in a file \"q-random.tsv\" with columns curr_state, curr_action, next_reward, next_state, old_value, new_value."
      ]
    },
    {
      "cell_type": "code",
      "execution_count": 8,
      "metadata": {
        "id": "W8cFRd7uPGqy"
      },
      "outputs": [
        {
          "name": "stdout",
          "output_type": "stream",
          "text": [
            "Q-learning log saved to q-random.tsv\n"
          ]
        }
      ],
      "source": [
        "# YOUR CHANGES HERE\n",
        "\n",
        "import pandas as pd\n",
        "from collections import defaultdict\n",
        "\n",
        "\n",
        "alpha = 1.0    \n",
        "gamma = 0.9     \n",
        "Q = defaultdict(float)  \n",
        "\n",
        "records = []\n",
        "\n",
        "\n",
        "for episode in range(32):\n",
        "    for (curr_state, curr_action, next_reward, next_state) in simulator.rollout_policy(random_policy, max_steps=1024):\n",
        "        old_value = Q[(curr_state, curr_action)]\n",
        "\n",
        "        next_actions = simulator.get_actions(next_state)\n",
        "        next_q_values = [Q[(next_state, a)] for a in next_actions]\n",
        "        best_next = max(next_q_values) if next_q_values else 0.0\n",
        "\n",
        "        new_value = old_value + alpha * (next_reward + gamma * best_next - old_value)\n",
        "        Q[(curr_state, curr_action)] = new_value\n",
        "\n",
        "        records.append({\n",
        "            \"curr_state\": curr_state,\n",
        "            \"curr_action\": curr_action,\n",
        "            \"next_reward\": next_reward,\n",
        "            \"next_state\": next_state,\n",
        "            \"old_value\": old_value,\n",
        "            \"new_value\": new_value\n",
        "        })\n",
        "\n",
        "\n",
        "df = pd.DataFrame(records)\n",
        "df.to_csv(\"q-random.tsv\", sep=\"\\t\", index=False)\n",
        "\n",
        "print(\"Q-learning log saved to q-random.tsv\")\n",
        "\n",
        "\n"
      ]
    },
    {
      "cell_type": "markdown",
      "metadata": {
        "id": "Tnu4j4Yp72k1"
      },
      "source": [
        "Submit \"q-random.tsv\" in Gradescope."
      ]
    },
    {
      "cell_type": "markdown",
      "metadata": {
        "id": "bMBmh7UW-vJU"
      },
      "source": [
        "## Part 3: Implement Epsilon-Greedy Policy\n",
        "\n",
        "Implement an epsilon-greedy policy that picks the optimal policy based on your q-values so far 75% of the time, and picks a random action 25% of the time.\n",
        "This is a high epsilon value, but the environment is deterministic, so it will benefit from more exploration."
      ]
    },
    {
      "cell_type": "code",
      "execution_count": 9,
      "metadata": {
        "id": "pS7g1sETAbKd"
      },
      "outputs": [],
      "source": [
        "# YOUR CHANGES HERE\n",
        "\n",
        "# hard-code epsilon=0.25. this is high but the environment is deterministic.\n",
        "def epsilon_greedy_policy(state, actions):\n",
        "    return 0"
      ]
    },
    {
      "cell_type": "markdown",
      "metadata": {
        "id": "PpSMW7CNAtEw"
      },
      "source": [
        "Combine your epsilon-greedy policy with q-learning below and save the observations and updates in \"q-greedy.tsv\" with columns curr_state, curr_action, next_reward, next_state, old_value, new_value."
      ]
    },
    {
      "cell_type": "markdown",
      "metadata": {
        "id": "I5nkGhMOVJFp"
      },
      "source": [
        "Hint: make sure to reset your q-learning state before running the simulation below so that the learning process is recorded from the beginning."
      ]
    },
    {
      "cell_type": "code",
      "execution_count": 10,
      "metadata": {
        "id": "JcNQg6qRAsqc"
      },
      "outputs": [],
      "source": [
        "# YOUR CHANGES HERE\n",
        "\n",
        "for episode in range(32):\n",
        "    for (curr_state, curr_action, next_reward, next_state) in simulator.rollout_policy(epsilon_greedy_policy, max_steps=1024):\n",
        "        #print(\"CURR STATE\", curr_state, \"ACTION\", curr_action, \"NEXT REWARD\", next_reward, \"NEXT STATE\", next_state)\n",
        "\n",
        "        if next_reward > 0:\n",
        "            # moving to terminal state\n",
        "            break\n",
        "\n",
        "        pass"
      ]
    },
    {
      "cell_type": "code",
      "execution_count": 11,
      "metadata": {},
      "outputs": [],
      "source": [
        "import numpy as np\n",
        "import pandas as pd\n",
        "\n",
        "Q = {}\n",
        "gamma = 0.9\n",
        "epsilon = 0.25  \n",
        "\n",
        "def epsilon_greedy_policy(state, actions):\n",
        "    if np.random.rand() < epsilon:             \n",
        "        return int(np.random.choice(actions))\n",
        "    q = np.array([Q.get((state, a), 0.0) for a in actions], float)\n",
        "    best = np.flatnonzero(q == q.max())        \n",
        "    return int(actions[np.random.choice(best)])\n",
        "\n",
        "records = []\n",
        "for episode in range(32):\n",
        "    for (curr_state, curr_action, next_reward, next_state) in simulator.rollout_policy(\n",
        "        epsilon_greedy_policy, max_steps=1024\n",
        "    ):\n",
        "        old = Q.get((curr_state, curr_action), 0.0)\n",
        "        next_actions = simulator.get_actions(next_state)\n",
        "        next_q = np.array([Q.get((next_state, a), 0.0) for a in next_actions], float)\n",
        "        best_next = float(next_q.max()) if next_q.size else 0.0\n",
        "\n",
        "        new = next_reward + gamma * best_next\n",
        "        Q[(curr_state, curr_action)] = new\n",
        "\n",
        "        records.append({\n",
        "            \"curr_state\":  curr_state,\n",
        "            \"curr_action\": int(curr_action),\n",
        "            \"next_reward\": int(next_reward),\n",
        "            \"next_state\":  next_state,\n",
        "            \"old_value\":   old,\n",
        "            \"new_value\":   new\n",
        "        })\n",
        "\n",
        "        if next_reward > 0:   \n",
        "            break\n",
        "\n",
        "pd.DataFrame(records).to_csv(\"q-greedy.tsv\", sep=\"\\t\", index=False)\n"
      ]
    },
    {
      "cell_type": "markdown",
      "metadata": {
        "id": "3Vd246wcA0HV"
      },
      "source": [
        "Submit \"q-greedy.tsv\" in Gradescope."
      ]
    },
    {
      "cell_type": "markdown",
      "metadata": {
        "id": "zgGc8aP8DCzW"
      },
      "source": [
        "## Part 4: Extract Policy from Q-Values\n",
        "\n",
        "Using your final q-values from the previous simulation, extract a policy picking the best actions according to those q-values.\n",
        "Save the policy in a file \"policy-greedy.tsv\" with columns state and action."
      ]
    },
    {
      "cell_type": "code",
      "execution_count": 12,
      "metadata": {
        "id": "w7VnSBcYDINb"
      },
      "outputs": [
        {
          "data": {
            "text/plain": [
              "Ellipsis"
            ]
          },
          "execution_count": 12,
          "metadata": {},
          "output_type": "execute_result"
        }
      ],
      "source": [
        "# YOUR CHANGES HERE\n",
        "\n",
        "..."
      ]
    },
    {
      "cell_type": "code",
      "execution_count": 13,
      "metadata": {},
      "outputs": [
        {
          "name": "stdout",
          "output_type": "stream",
          "text": [
            "Saved policy-greedy.tsv\n",
            "   state  action\n",
            "0      3       0\n",
            "1      4      -1\n",
            "2      5      -1\n",
            "3      6       0\n",
            "4      7       0\n"
          ]
        },
        {
          "name": "stderr",
          "output_type": "stream",
          "text": [
            "/tmp/ipykernel_2421/1908227982.py:8: FutureWarning: DataFrameGroupBy.apply operated on the grouping columns. This behavior is deprecated, and in a future version of pandas the grouping columns will be excluded from the operation. Either pass `include_groups=False` to exclude the groupings or explicitly select the grouping columns after groupby to silence this warning.\n",
            "  .apply(lambda g: g.loc[g[\"new_value\"].idxmax(), \"curr_action\"])\n"
          ]
        }
      ],
      "source": [
        "import numpy as np\n",
        "import pandas as pd\n",
        "\n",
        "qdata = pd.read_csv(\"q-greedy.tsv\", sep=\"\\t\")\n",
        "\n",
        "best_actions = (\n",
        "    qdata.groupby(\"curr_state\")\n",
        "         .apply(lambda g: g.loc[g[\"new_value\"].idxmax(), \"curr_action\"])\n",
        "         .reset_index(name=\"action\")\n",
        "         .rename(columns={\"curr_state\": \"state\"})\n",
        ")\n",
        "\n",
        "\n",
        "best_actions.to_csv(\"policy-greedy.tsv\", sep=\"\\t\", index=False)\n",
        "print(\"Saved policy-greedy.tsv\")\n",
        "print(best_actions.head())\n"
      ]
    },
    {
      "cell_type": "markdown",
      "metadata": {
        "id": "DLcCtb64DJl-"
      },
      "source": [
        "Submit \"policy-greedy.tsv\" in Gradescope."
      ]
    },
    {
      "cell_type": "markdown",
      "metadata": {
        "id": "kE1-nlr6Byq2"
      },
      "source": [
        "## Part 5: Implement Large Policy\n",
        "\n",
        "Train a more optimal policy using q-learning.\n",
        "Save the policy in a file \"policy-optimal.tsv\" with columns state and action."
      ]
    },
    {
      "cell_type": "markdown",
      "metadata": {
        "id": "nHuR4N4BD3_r"
      },
      "source": [
        "Hint: this policy will be graded on its performance compared to optimal for each of the initial states.\n",
        "**You will get full credit if the average value of your policy for the initial states is within 20% of optimal.**\n",
        "Make sure that your policy has coverage of all the initial states, and does not take actions leading to states not included in your policy.\n",
        "You will have to run several rollouts to get coverage of all the initial states, and the provided loops for parts 2 and 3 only consist of one rollout each."
      ]
    },
    {
      "cell_type": "markdown",
      "metadata": {
        "id": "u_DWSxVHTp62"
      },
      "source": [
        "Hint: this environment only gives one non-zero reward per episode, so you may want to cut off rollouts for speed once they get that reward.\n",
        "But make sure you update the q-values first!"
      ]
    },
    {
      "cell_type": "code",
      "execution_count": 14,
      "metadata": {
        "id": "b1A9W4gCDiRZ"
      },
      "outputs": [
        {
          "data": {
            "text/plain": [
              "Ellipsis"
            ]
          },
          "execution_count": 14,
          "metadata": {},
          "output_type": "execute_result"
        }
      ],
      "source": [
        "# YOUR CHANGES HERE\n",
        "\n",
        "..."
      ]
    },
    {
      "cell_type": "code",
      "execution_count": 15,
      "metadata": {},
      "outputs": [
        {
          "name": "stdout",
          "output_type": "stream",
          "text": [
            "Saved policy-optimal.tsv with 1996 states\n"
          ]
        }
      ],
      "source": [
        "import numpy as np\n",
        "import pandas as pd\n",
        "\n",
        "\n",
        "Q = {}                                  \n",
        "gamma = 0.9\n",
        "alpha = 1.0                              \n",
        "eps_hi, eps_lo = 0.30, 0.05              \n",
        "max_steps = 2048\n",
        "\n",
        "def eps_greedy(state, actions, eps):\n",
        "    if np.random.rand() < eps:                      \n",
        "        return int(np.random.choice(actions))\n",
        "    qs = np.array([Q.get((state, a), 0.0) for a in actions], float)\n",
        "    best = np.flatnonzero(qs == qs.max())          \n",
        "    return int(actions[np.random.choice(best)])\n",
        "\n",
        "visited_states = set()\n",
        "episodes = 60                    \n",
        "per_pass  = len(simulator.initial_states)\n",
        "\n",
        "for ep in range(episodes):\n",
        "    eps = eps_hi + (eps_lo - eps_hi) * (ep / max(1, episodes - 1))\n",
        "\n",
        "    for s0 in simulator.initial_states:\n",
        "        curr_state = s0\n",
        "        for t in range(max_steps):\n",
        "            visited_states.add(curr_state)\n",
        "            actions = simulator.get_actions(curr_state)\n",
        "            a = eps_greedy(curr_state, actions, eps)\n",
        "\n",
        "            r, next_state = simulator.get_next_reward_state(curr_state, a)\n",
        "            visited_states.add(next_state)\n",
        "\n",
        "            old = Q.get((curr_state, a), 0.0)\n",
        "            next_actions = simulator.get_actions(next_state)\n",
        "            best_next = 0.0 if not next_actions else max(Q.get((next_state, aa), 0.0) for aa in next_actions)\n",
        "            Q[(curr_state, a)] = r + gamma * best_next\n",
        "\n",
        "            curr_state = next_state\n",
        "            if r > 0:       \n",
        "                break\n",
        "            if curr_state == simulator.terminal_state:\n",
        "                break\n",
        "\n",
        "def best_action_for_state(s):\n",
        "    acts = simulator.get_actions(s)\n",
        "    qs = np.array([Q.get((s, a), 0.0) for a in acts], float)\n",
        "    return int(acts[int(np.flatnonzero(qs == qs.max())[0])])\n",
        "\n",
        "all_states = sorted(visited_states | {simulator.terminal_state} | set(simulator.initial_states))\n",
        "policy_rows = [{\"state\": s, \"action\": (0 if s == simulator.terminal_state else best_action_for_state(s))}\n",
        "               for s in all_states]\n",
        "\n",
        "pd.DataFrame(policy_rows).to_csv(\"policy-optimal.tsv\", sep=\"\\t\", index=False)\n",
        "print(\"Saved policy-optimal.tsv with\", len(policy_rows), \"states\")\n"
      ]
    },
    {
      "cell_type": "markdown",
      "metadata": {
        "id": "2BUoHvjUDkjf"
      },
      "source": [
        "Submit \"policy-optimal.tsv\" in Gradescope."
      ]
    },
    {
      "cell_type": "markdown",
      "metadata": {
        "id": "smsTLuFcvR-I"
      },
      "source": [
        "## Part 6: Code\n",
        "\n",
        "Please submit a Jupyter notebook that can reproduce all your calculations and recreate the previously submitted files.\n",
        "You do not need to provide code for data collection if you did that by manually."
      ]
    },
    {
      "cell_type": "markdown",
      "metadata": {
        "id": "zi8lV2pbvWMs"
      },
      "source": [
        "## Part 7: Acknowledgements\n",
        "\n",
        "If you discussed this assignment with anyone, please acknowledge them here.\n",
        "If you did this assignment completely on your own, simply write none below.\n",
        "\n",
        "If you used any libraries not mentioned in this module's content, please list them with a brief explanation what you used them for. If you did not use any other libraries, simply write none below.\n",
        "\n",
        "If you used any generative AI tools, please add links to your transcripts below, and any other information that you feel is necessary to comply with the generative AI policy. If you did not use any generative AI tools, simply write none below."
      ]
    },
    {
      "cell_type": "code",
      "execution_count": 16,
      "metadata": {},
      "outputs": [
        {
          "name": "stdout",
          "output_type": "stream",
          "text": [
            "Saved acknowledgments to: /workspaces/dx704-project-08/acknowledgments.txt\n"
          ]
        }
      ],
      "source": [
        "from pathlib import Path\n",
        "\n",
        "ACK_FILE = Path(\"acknowledgments.txt\")\n",
        "ACK_TEXT = \"My dad helped me with this\"\n",
        "\n",
        "def main():\n",
        "    ACK_FILE.write_text(ACK_TEXT)\n",
        "    print(f\"Saved acknowledgments to: {ACK_FILE.resolve()}\")\n",
        "\n",
        "if __name__ == \"__main__\":\n",
        "    main()"
      ]
    }
  ],
  "metadata": {
    "colab": {
      "toc_visible": false
    },
    "kernelspec": {
      "display_name": "Python 3",
      "name": "python3"
    },
    "language_info": {
      "codemirror_mode": {
        "name": "ipython",
        "version": 3
      },
      "file_extension": ".py",
      "mimetype": "text/x-python",
      "name": "python",
      "nbconvert_exporter": "python",
      "pygments_lexer": "ipython3",
      "version": "3.12.1"
    }
  },
  "nbformat": 4,
  "nbformat_minor": 0
}
